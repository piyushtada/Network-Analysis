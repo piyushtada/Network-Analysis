{
 "cells": [
  {
   "cell_type": "markdown",
   "metadata": {},
   "source": [
    "# Construct a network of Wikipedia pages anchored at Complex Networks"
   ]
  },
  {
   "cell_type": "code",
   "execution_count": 1,
   "metadata": {},
   "outputs": [],
   "source": [
    "# ! pip install wikipedia"
   ]
  },
  {
   "cell_type": "code",
   "execution_count": 2,
   "metadata": {},
   "outputs": [],
   "source": [
    "from operator import itemgetter\n",
    "import networkx as nx\n",
    "import wikipedia"
   ]
  },
  {
   "cell_type": "code",
   "execution_count": 3,
   "metadata": {},
   "outputs": [],
   "source": [
    "SEED = \"Complex network\".title()\n",
    "\n",
    "STOPS = (\"International Standard Serial Number\",\n",
    "         \"International Standard Book Number\",\n",
    "         \"National Diet Library\",\n",
    "         \"International Standard Name Identifier\",\n",
    "         \"International Standard Book Number (Identifier)\",\n",
    "         \"Pubmed Identifier\", \"Pubmed Central\",\n",
    "         \"Digital Object Identifier\", \"Arxiv\",\n",
    "         \"Proc Natl Acad Sci Usa\", \"Bibcode\",\n",
    "         \"Library Of Congress Control Number\", \"Jstor\")\n",
    "\n",
    "todo_lst = [(0, SEED)] # The SEED is in the layer 0\n",
    "todo_set = set(SEED)   # The SEED itself\n",
    "done_set = set()       # Nothing is done yet"
   ]
  },
  {
   "cell_type": "code",
   "execution_count": 4,
   "metadata": {},
   "outputs": [],
   "source": [
    "F = nx.DiGraph()\n",
    "layer, page = todo_lst[0]"
   ]
  },
  {
   "cell_type": "code",
   "execution_count": 5,
   "metadata": {},
   "outputs": [
    {
     "name": "stdout",
     "output_type": "stream",
     "text": [
      "0 Complex Network\n",
      "1 Adjacency List\n",
      "1 Adjacency Matrix\n",
      "1 Agent-Based Model\n",
      "1 Albert-László Barabási\n",
      "1 Arxiv (Identifier)\n",
      "1 Artificial Neural Network\n",
      "1 Assortativity\n",
      "1 Autonomous System (Internet)\n",
      "1 Balance Theory\n",
      "1 Barabási–Albert Model\n",
      "1 Bianconi–Barabási Model\n",
      "1 Bibcode (Identifier)\n",
      "1 Biological Network\n",
      "1 Biology\n",
      "1 Bipartite Graph\n",
      "1 Blockmodeling\n",
      "Could not load Boolean Network\n",
      "1 Boolean Network\n",
      "1 Branching Process\n",
      "1 Centrality\n",
      "1 Climate\n",
      "1 Climate Networks\n",
      "1 Clique (Graph Theory)\n",
      "1 Clustering Coefficient\n",
      "1 Combinatorial Optimization\n",
      "1 Community Structure\n",
      "1 Complete Graph\n",
      "1 Complex Networks\n",
      "1 Complex Adaptive System\n",
      "1 Complex Contagion\n",
      "1 Complex Systems\n",
      "1 Computer Network\n",
      "1 Computer Science\n",
      "1 Connected Component (Graph Theory)\n",
      "1 Connectome\n",
      "Could not load Cut (Graph Theory)\n",
      "1 Cut (Graph Theory)\n",
      "1 Cycle (Graph Theory)\n",
      "1 Degree (Graph Theory)\n",
      "1 Degree Distribution\n",
      "1 Dependency Network\n",
      "1 Directed Graph\n",
      "1 Distance (Graph Theory)\n",
      "1 Doi (Identifier)\n",
      "1 Dual-Phase Evolution\n",
      "1 Duncan J. Watts\n",
      "1 Dynamic Network Analysis\n",
      "1 Edge (Graph Theory)\n",
      "1 Efficiency (Network Science)\n",
      "1 Entropy (Information Theory)\n",
      "1 Epidemic Model\n",
      "1 Epidemiology\n",
      "1 Erdős–Rényi Model\n",
      "1 Evolving Networks\n",
      "1 Exponential Random Graph Models\n",
      "1 Fitness Model (Network Theory)\n",
      "1 Flow Network\n",
      "1 Frigyes Karinthy\n",
      "1 Graph (Abstract Data Type)\n",
      "1 Graph (Discrete Mathematics)\n",
      "1 Graph Drawing\n",
      "1 Herbert A. Simon\n",
      "1 Hierarchical Network Model\n",
      "1 Hierarchy\n",
      "1 Homophily\n",
      "1 Hyperbolic Geometric Graph\n",
      "1 Hypercube\n",
      "Could not load Hypergraph\n",
      "1 Hypergraph\n",
      "1 Isbn (Identifier)\n",
      "1 Issn (Identifier)\n",
      "1 Incidence List\n",
      "1 Incidence Matrix\n",
      "Could not load Interdependent Networks\n",
      "1 Interdependent Networks\n",
      "1 Lancichinetti–Fortunato–Radicchi Benchmark\n",
      "1 Lattice Graph\n",
      "1 Link Analysis\n",
      "1 Loop (Graph Theory)\n",
      "1 Mathematics\n",
      "1 Matthew Effect (Sociology)\n",
      "1 Maximum-Entropy Random Graph Model\n",
      "1 Metrics (Networking)\n",
      "1 Modularity (Networks)\n",
      "1 Multigraph\n",
      "Could not load Neighbourhood (Graph Theory)\n",
      "1 Neighbourhood (Graph Theory)\n",
      "1 Network Controllability\n",
      "1 Network Effect\n",
      "1 Network Motif\n",
      "1 Network On A Chip\n",
      "1 Network Science\n",
      "1 Network Theory\n",
      "1 Pmc (Identifier)\n",
      "Could not load Pmid (Identifier)\n",
      "1 Pmid (Identifier)\n",
      "1 Path (Graph Theory)\n",
      "1 Percolation\n",
      "1 Percolation Theory\n",
      "1 Physics\n"
     ]
    },
    {
     "name": "stderr",
     "output_type": "stream",
     "text": [
      "/Users/piyush/Code/Network-Analysis/venv/lib/python3.9/site-packages/wikipedia/wikipedia.py:389: GuessedAtParserWarning: No parser was explicitly specified, so I'm using the best available HTML parser for this system (\"lxml\"). This usually isn't a problem, but if you run this code on another system, or in a different virtual environment, it may use a different parser and behave differently.\n",
      "\n",
      "The code that caused this warning is on line 389 of the file /Users/piyush/Code/Network-Analysis/venv/lib/python3.9/site-packages/wikipedia/wikipedia.py. To get rid of this warning, pass the additional argument 'features=\"lxml\"' to the BeautifulSoup constructor.\n",
      "\n",
      "  lis = BeautifulSoup(html).find_all('li')\n"
     ]
    },
    {
     "name": "stdout",
     "output_type": "stream",
     "text": [
      "Could not load Poisson Distribution\n",
      "1 Poisson Distribution\n",
      "Could not load Power-Law\n",
      "1 Power-Law\n",
      "1 Power Law\n",
      "1 Preferential Attachment\n",
      "1 Random Geometric Graph\n",
      "1 Random Graph\n",
      "1 Random Graph Theory Of Gelation\n",
      "1 Random Regular Graphs\n",
      "1 Reciprocity (Network Science)\n",
      "1 Reciprocity In Network\n",
      "1 Regular Lattices\n",
      "1 S2Cid (Identifier)\n",
      "1 Sir Model\n",
      "1 Scale-Free Network\n",
      "1 Scale-Free Networks\n",
      "1 Scientific Collaboration Network\n",
      "1 Semantic Network\n",
      "1 Six Degrees Of Separation\n",
      "1 Small-World Network\n",
      "1 Small-World Networks\n",
      "1 Small-World Phenomenon\n",
      "1 Small World Networks\n",
      "1 Social Capital\n",
      "1 Social Influence\n",
      "1 Social Network\n",
      "1 Social Network Analysis Software\n",
      "1 Sociology\n",
      "1 Soft Configuration Model\n",
      "1 Spatial Network\n",
      "1 Stanley Milgram\n",
      "1 Steven Strogatz\n",
      "1 Stochastic Block Model\n",
      "1 Telecommunications Network\n",
      "1 Topological\n",
      "1 Transitive Relation\n",
      "1 Transport Network\n",
      "1 Triadic Closure\n",
      "1 Trophic Coherence\n",
      "1 Vertex (Graph Theory)\n",
      "1 Watts–Strogatz Model\n",
      "1 Weighted Network\n",
      "1 World Wide Web\n",
      "1 Yule-Simon Distribution\n",
      "14121 nodes, 27770 edges\n"
     ]
    }
   ],
   "source": [
    "while layer < 2:\n",
    "    del todo_lst[0] #(1)\n",
    "    done_set.add(page)\n",
    "    print(layer, page) # Show progress\n",
    "\n",
    "    try: #(2)\n",
    "        wiki = wikipedia.page(page)\n",
    "    except:\n",
    "        layer, page = todo_lst[0]\n",
    "        print(\"Could not load\", page)\n",
    "        continue\n",
    "\n",
    "    for link in wiki.links: #(3)\n",
    "        link = link.title()\n",
    "        if link not in STOPS and not link.startswith(\"List Of\"):\n",
    "            if link not in todo_set and link not in done_set:\n",
    "                todo_lst.append((layer + 1, link))\n",
    "                todo_set.add(link)\n",
    "            F.add_edge(page, link)\n",
    "\n",
    "    layer, page = todo_lst[0] #(4)\n",
    "print(\"{} nodes, {} edges\".format(len(F), nx.number_of_edges(F)))\n",
    "# 11597 nodes, 21331 edges"
   ]
  },
  {
   "cell_type": "code",
   "execution_count": 6,
   "metadata": {},
   "outputs": [],
   "source": [
    "# F.remove_edges_from(F.selfloop_edges()) old code that don't work now\n",
    "\n",
    "F.remove_edges_from(nx.selfloop_edges(F))"
   ]
  },
  {
   "cell_type": "code",
   "execution_count": 7,
   "metadata": {},
   "outputs": [],
   "source": [
    "duplicates = [(node, node + \"s\") for node in F if node + \"s\" in F]"
   ]
  },
  {
   "cell_type": "code",
   "execution_count": 8,
   "metadata": {},
   "outputs": [],
   "source": [
    "for dup in duplicates:\n",
    "    F = nx.contracted_nodes(F, *dup, self_loops=False)\n",
    "duplicates = [(x, y) for x, y \n",
    "              in [(node, node.replace(\"-\", \" \")) for node in F]\n",
    "              if x != y and y in F]"
   ]
  },
  {
   "cell_type": "code",
   "execution_count": 9,
   "metadata": {},
   "outputs": [],
   "source": [
    "for dup in duplicates:\n",
    "    F = nx.contracted_nodes(F, *dup, self_loops=False)\n",
    "nx.set_node_attributes(F, 0, \"contraction\")"
   ]
  },
  {
   "cell_type": "code",
   "execution_count": 10,
   "metadata": {},
   "outputs": [],
   "source": [
    "# ! pip install lxml"
   ]
  },
  {
   "cell_type": "code",
   "execution_count": 11,
   "metadata": {},
   "outputs": [
    {
     "name": "stdout",
     "output_type": "stream",
     "text": [
      "3806 nodes, 16330 edges\n"
     ]
    }
   ],
   "source": [
    "core = [node for node, deg in dict(F.degree()).items() if deg >= 2]\n",
    "G = nx.subgraph(F, core)\n",
    "print(\"{} nodes, {} edges\".format(len(G), nx.number_of_edges(G)))\n",
    "# 2995 nodes, 11817 edges"
   ]
  },
  {
   "cell_type": "code",
   "execution_count": 13,
   "metadata": {},
   "outputs": [],
   "source": [
    "nx.write_adjlist(G, \"test.adjlist\")"
   ]
  },
  {
   "cell_type": "code",
   "execution_count": 15,
   "metadata": {},
   "outputs": [
    {
     "name": "stdout",
     "output_type": "stream",
     "text": [
      "112 Doi (Identifier)\n",
      "91 Isbn (Identifier)\n",
      "83 Pmid (Identifier)\n",
      "82 S2Cid (Identifier)\n",
      "79 Arxiv (Identifier)\n",
      "78 Bibcode (Identifier)\n",
      "69 Graph (Discrete Mathematics)\n",
      "65 Vertex (Graph Theory)\n",
      "59 Pmc (Identifier)\n",
      "59 Directed Graph\n",
      "58 Social Network\n",
      "56 Degree (Graph Theory)\n",
      "55 Network Theory\n",
      "55 Adjacency Matrix\n",
      "55 Issn (Identifier)\n",
      "53 Network Science\n",
      "53 Small-World Network\n",
      "52 Path (Graph Theory)\n",
      "52 Complex Network\n",
      "52 Complete Graph\n",
      "52 Edge (Graph Theory)\n",
      "52 Bipartite Graph\n",
      "51 Incidence Matrix\n",
      "51 Graph Drawing\n",
      "51 Blockmodeling\n",
      "50 Adjacency List\n",
      "50 Graph (Abstract Data Type)\n",
      "50 Social Network Analysis Software\n",
      "50 Social Capital\n",
      "50 Scale-Free Network\n",
      "50 Cycle (Graph Theory)\n",
      "49 Multigraph\n",
      "49 Complex Contagion\n",
      "48 Clustering Coefficient\n",
      "48 Percolation Theory\n",
      "48 Graph Theory\n",
      "48 Loop (Graph Theory)\n",
      "48 Centrality\n",
      "47 Random Graph\n",
      "47 Preferential Attachment\n",
      "47 Distance (Graph Theory)\n",
      "47 Degree Distribution\n",
      "47 Erdős–Rényi Model\n",
      "46 Neighbourhood (Graph Theory)\n",
      "46 Clique (Graph Theory)\n",
      "46 Hypergraph\n",
      "46 Connected Component (Graph Theory)\n",
      "45 Agent-Based Model\n",
      "45 Cut (Graph Theory)\n",
      "45 Flow Network\n",
      "45 Computer Network\n",
      "45 Barabási–Albert Model\n",
      "45 Artificial Neural Network\n",
      "44 Semantic Network\n",
      "44 Network Motif\n",
      "44 Weighted Network\n",
      "44 Transitive Relation\n",
      "43 Combinatorial Optimization\n",
      "43 Community Structure\n",
      "43 Triadic Closure\n",
      "43 Fitness Model (Network Theory)\n",
      "43 Telecommunications Network\n",
      "43 Link Analysis\n",
      "42 Network Controllability\n",
      "42 Interdependent Networks\n",
      "42 Boolean Network\n",
      "42 Dependency Network\n",
      "42 Social Influence\n",
      "42 Metrics (Networking)\n",
      "42 Lancichinetti–Fortunato–Radicchi Benchmark\n",
      "42 Incidence List\n",
      "42 Biological Network\n",
      "42 Evolving Networks\n",
      "42 Network Effect\n",
      "42 Transport Network\n",
      "42 Balance Theory\n",
      "42 Modularity (Networks)\n",
      "42 Epidemic Model\n",
      "42 Sir Model\n",
      "42 Stochastic Block Model\n",
      "41 Spatial Network\n",
      "41 Hyperbolic Geometric Graph\n",
      "41 Hierarchical Network Model\n",
      "41 Assortativity\n",
      "41 Maximum-Entropy Random Graph Model\n",
      "41 Soft Configuration Model\n",
      "41 Watts–Strogatz Model\n",
      "41 Bianconi–Barabási Model\n",
      "41 Efficiency (Network Science)\n",
      "41 Homophily\n",
      "41 Random Geometric Graph\n",
      "41 Exponential Random Graph Model\n",
      "41 Network On A Chip\n",
      "41 Scientific Collaboration Network\n",
      "40 Reciprocity (Network Science)\n",
      "38 Citeseerx (Identifier)\n",
      "30 Hdl (Identifier)\n",
      "29 Jstor (Identifier)\n",
      "28 Social Network Analysis\n",
      "25 Computer Science\n"
     ]
    }
   ],
   "source": [
    "top_indegree = sorted(dict(G.in_degree()).items(),\n",
    "                      reverse=True, key=itemgetter(1))[:100]\n",
    "print(\"\\n\".join(map(lambda t: \"{} {}\".format(*reversed(t)), top_indegree)))"
   ]
  },
  {
   "cell_type": "code",
   "execution_count": 18,
   "metadata": {},
   "outputs": [
    {
     "data": {
      "image/png": "[encoded data removed]",
      "text/plain": [
       "<Figure size 432x288 with 1 Axes>"
      ]
     },
     "metadata": {},
     "output_type": "display_data"
    }
   ],
   "source": [
    "nx.draw(G)"
   ]
  },
  {
   "cell_type": "code",
   "execution_count": null,
   "metadata": {},
   "outputs": [],
   "source": []
  }
 ],
 "metadata": {
  "interpreter": {
   "hash": "ba8317bdab7dbc2ed57e3047cb82f0b9f65dd45034139167c6c07f8a9bd4bab8"
  },
  "kernelspec": {
   "display_name": "Python 3.9.7 ('venv': venv)",
   "language": "python",
   "name": "python3"
  },
  "language_info": {
   "codemirror_mode": {
    "name": "ipython",
    "version": 3
   },
   "file_extension": ".py",
   "mimetype": "text/x-python",
   "name": "python",
   "nbconvert_exporter": "python",
   "pygments_lexer": "ipython3",
   "version": "3.9.7"
  },
  "orig_nbformat": 4
 },
 "nbformat": 4,
 "nbformat_minor": 2
}
