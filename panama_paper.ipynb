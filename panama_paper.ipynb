{
 "cells": [
  {
   "cell_type": "markdown",
   "metadata": {},
   "source": [
    "# Case Study: Panama Papers\n",
    "\n",
    "[Dataset download](https://github.com/ICIJ/offshoreleaks-data-packages/tree/main/raw-data)"
   ]
  },
  {
   "cell_type": "code",
   "execution_count": 4,
   "metadata": {},
   "outputs": [],
   "source": [
    "import csv\n",
    "import pickle\n",
    "import itertools\n",
    "from collections import Counter\n",
    "import networkx as nx\n",
    "from networkx.drawing.nx_agraph import graphviz_layout \n",
    "import matplotlib.pyplot as plt"
   ]
  },
  {
   "cell_type": "code",
   "execution_count": 5,
   "metadata": {},
   "outputs": [],
   "source": [
    "import dzcnapy_plotlib as dzcnapy"
   ]
  },
  {
   "cell_type": "markdown",
   "metadata": {},
   "source": []
  },
  {
   "cell_type": "code",
   "execution_count": 6,
   "metadata": {},
   "outputs": [],
   "source": [
    "EDGES = \"beneficiary\"\n",
    "NODES = ((\"./csv_panama_papers.2018-02-14/panama_papers.nodes.entity.csv\", \"jurisdiction\", \"name\"),\n",
    "         (\"./csv_panama_papers.2018-02-14/panama_papers.nodes.officer.csv\", \"country_codes\", \"name\"),\n",
    "         (\"./csv_panama_papers.2018-02-14/panama_papers.nodes.intermediary.csv\", \"country_codes\", \"name\"))"
   ]
  },
  {
   "cell_type": "code",
   "execution_count": 7,
   "metadata": {},
   "outputs": [],
   "source": [
    "panama = nx.Graph()\n",
    "\n",
    "with open(\"./csv_panama_papers.2018-02-14/panama_papers.edges.csv\") as infile:\n",
    "    data = csv.DictReader(infile)\n",
    "    panama.add_edges_from((link[\"START_ID\"], link[\"END_ID\"])\n",
    "                          for link in data\n",
    "                          if link[\"TYPE\"].lower().startswith(EDGES))"
   ]
  },
  {
   "cell_type": "code",
   "execution_count": 8,
   "metadata": {},
   "outputs": [],
   "source": [
    "nodes = set(panama.nodes())\n",
    "relabel = {}"
   ]
  },
  {
   "cell_type": "code",
   "execution_count": 9,
   "metadata": {},
   "outputs": [
    {
     "data": {
      "text/plain": [
       "<networkx.classes.graph.Graph at 0x7fc8bdbb4e80>"
      ]
     },
     "execution_count": 9,
     "metadata": {},
     "output_type": "execute_result"
    }
   ],
   "source": [
    "for f, cc, name in NODES:\n",
    "    with open(f) as infile:\n",
    "        kind = f.split(\".\")[0]\n",
    "        data = csv.DictReader(infile)\n",
    "        names_countries = {node[\"node_id\"] :\n",
    "                           (node[name].strip().upper(), node[cc])\n",
    "                           for node in data\n",
    "                           if node[\"node_id\"] in nodes}\n",
    "    names =     {nid: values[0] for nid, values in names_countries.items()}\n",
    "    countries = {nid: values[1] for nid, values in names_countries.items()}\n",
    "    kinds =     {nid: kind      for nid, _      in names_countries.items()}\n",
    "    nx.set_node_attributes(panama, countries, \"country\")\n",
    "    nx.set_node_attributes(panama, kinds, \"kind\")\n",
    "    relabel.update(names)\n",
    "\n",
    "nx.relabel_nodes(panama, relabel, copy=False)"
   ]
  },
  {
   "cell_type": "code",
   "execution_count": 10,
   "metadata": {},
   "outputs": [
    {
     "name": "stdout",
     "output_type": "stream",
     "text": [
      "0 0\n"
     ]
    }
   ],
   "source": [
    "if \"ISSUES OF:\" in panama:\n",
    "    panama.remove_node(\"ISSUES OF:\")\n",
    "\n",
    "if \"\" in panama:\n",
    "    panama.remove_node(\"\")\n",
    "\n",
    "print(nx.number_of_nodes(panama), nx.number_of_edges(panama))"
   ]
  },
  {
   "cell_type": "code",
   "execution_count": 11,
   "metadata": {},
   "outputs": [
    {
     "name": "stdout",
     "output_type": "stream",
     "text": [
      "0 0\n"
     ]
    }
   ],
   "source": [
    "components = [p.nodes() for p in nx.connected_components(panama)\n",
    "              if nx.number_of_nodes(p) >= 20\n",
    "              or nx.number_of_edges(p) >= 20]\n",
    "panama0 = panama.subgraph(itertools.chain.from_iterable(components))\n",
    "\n",
    "print(nx.number_of_nodes(panama0), nx.number_of_edges(panama0))"
   ]
  },
  {
   "cell_type": "code",
   "execution_count": 12,
   "metadata": {},
   "outputs": [],
   "source": [
    "with open(\"panama-beneficiary.pickle\", \"wb\") as outfile:\n",
    "    pickle.dump(panama, outfile)"
   ]
  },
  {
   "cell_type": "code",
   "execution_count": 14,
   "metadata": {},
   "outputs": [
    {
     "name": "stdout",
     "output_type": "stream",
     "text": [
      "Collecting pygraphviz\n",
      "  Using cached pygraphviz-1.9.zip (119 kB)\n",
      "Building wheels for collected packages: pygraphviz\n",
      "  Building wheel for pygraphviz (setup.py) ... \u001b[?25lerror\n",
      "\u001b[31m  ERROR: Command errored out with exit status 1:\n",
      "   command: /Users/piyush/opt/anaconda3/bin/python -u -c 'import io, os, sys, setuptools, tokenize; sys.argv[0] = '\"'\"'/private/var/folders/cr/cspt5tz93w7cqfslq2qjbg_c0000gn/T/pip-install-9sdmbkv3/pygraphviz_9f9b2a2ed09b486a82fd460d62f6086e/setup.py'\"'\"'; __file__='\"'\"'/private/var/folders/cr/cspt5tz93w7cqfslq2qjbg_c0000gn/T/pip-install-9sdmbkv3/pygraphviz_9f9b2a2ed09b486a82fd460d62f6086e/setup.py'\"'\"';f = getattr(tokenize, '\"'\"'open'\"'\"', open)(__file__) if os.path.exists(__file__) else io.StringIO('\"'\"'from setuptools import setup; setup()'\"'\"');code = f.read().replace('\"'\"'\\r\\n'\"'\"', '\"'\"'\\n'\"'\"');f.close();exec(compile(code, __file__, '\"'\"'exec'\"'\"'))' bdist_wheel -d /private/var/folders/cr/cspt5tz93w7cqfslq2qjbg_c0000gn/T/pip-wheel-sig1tzya\n",
      "       cwd: /private/var/folders/cr/cspt5tz93w7cqfslq2qjbg_c0000gn/T/pip-install-9sdmbkv3/pygraphviz_9f9b2a2ed09b486a82fd460d62f6086e/\n",
      "  Complete output (55 lines):\n",
      "  running bdist_wheel\n",
      "  running build\n",
      "  running build_py\n",
      "  creating build\n",
      "  creating build/lib.macosx-10.9-x86_64-3.9\n",
      "  creating build/lib.macosx-10.9-x86_64-3.9/pygraphviz\n",
      "  copying pygraphviz/scraper.py -> build/lib.macosx-10.9-x86_64-3.9/pygraphviz\n",
      "  copying pygraphviz/graphviz.py -> build/lib.macosx-10.9-x86_64-3.9/pygraphviz\n",
      "  copying pygraphviz/__init__.py -> build/lib.macosx-10.9-x86_64-3.9/pygraphviz\n",
      "  copying pygraphviz/agraph.py -> build/lib.macosx-10.9-x86_64-3.9/pygraphviz\n",
      "  copying pygraphviz/testing.py -> build/lib.macosx-10.9-x86_64-3.9/pygraphviz\n",
      "  creating build/lib.macosx-10.9-x86_64-3.9/pygraphviz/tests\n",
      "  copying pygraphviz/tests/test_unicode.py -> build/lib.macosx-10.9-x86_64-3.9/pygraphviz/tests\n",
      "  copying pygraphviz/tests/test_scraper.py -> build/lib.macosx-10.9-x86_64-3.9/pygraphviz/tests\n",
      "  copying pygraphviz/tests/test_readwrite.py -> build/lib.macosx-10.9-x86_64-3.9/pygraphviz/tests\n",
      "  copying pygraphviz/tests/test_string.py -> build/lib.macosx-10.9-x86_64-3.9/pygraphviz/tests\n",
      "  copying pygraphviz/tests/__init__.py -> build/lib.macosx-10.9-x86_64-3.9/pygraphviz/tests\n",
      "  copying pygraphviz/tests/test_html.py -> build/lib.macosx-10.9-x86_64-3.9/pygraphviz/tests\n",
      "  copying pygraphviz/tests/test_node_attributes.py -> build/lib.macosx-10.9-x86_64-3.9/pygraphviz/tests\n",
      "  copying pygraphviz/tests/test_drawing.py -> build/lib.macosx-10.9-x86_64-3.9/pygraphviz/tests\n",
      "  copying pygraphviz/tests/test_repr_mimebundle.py -> build/lib.macosx-10.9-x86_64-3.9/pygraphviz/tests\n",
      "  copying pygraphviz/tests/test_subgraph.py -> build/lib.macosx-10.9-x86_64-3.9/pygraphviz/tests\n",
      "  copying pygraphviz/tests/test_close.py -> build/lib.macosx-10.9-x86_64-3.9/pygraphviz/tests\n",
      "  copying pygraphviz/tests/test_edge_attributes.py -> build/lib.macosx-10.9-x86_64-3.9/pygraphviz/tests\n",
      "  copying pygraphviz/tests/test_clear.py -> build/lib.macosx-10.9-x86_64-3.9/pygraphviz/tests\n",
      "  copying pygraphviz/tests/test_layout.py -> build/lib.macosx-10.9-x86_64-3.9/pygraphviz/tests\n",
      "  copying pygraphviz/tests/test_attribute_defaults.py -> build/lib.macosx-10.9-x86_64-3.9/pygraphviz/tests\n",
      "  copying pygraphviz/tests/test_graph.py -> build/lib.macosx-10.9-x86_64-3.9/pygraphviz/tests\n",
      "  running egg_info\n",
      "  writing pygraphviz.egg-info/PKG-INFO\n",
      "  writing dependency_links to pygraphviz.egg-info/dependency_links.txt\n",
      "  writing top-level names to pygraphviz.egg-info/top_level.txt\n",
      "  reading manifest file 'pygraphviz.egg-info/SOURCES.txt'\n",
      "  reading manifest template 'MANIFEST.in'\n",
      "  warning: no files found matching '*.png' under directory 'doc'\n",
      "  warning: no files found matching '*.txt' under directory 'doc'\n",
      "  warning: no files found matching '*.css' under directory 'doc'\n",
      "  warning: no previously-included files matching '*~' found anywhere in distribution\n",
      "  warning: no previously-included files matching '*.pyc' found anywhere in distribution\n",
      "  warning: no previously-included files matching '.svn' found anywhere in distribution\n",
      "  no previously-included directories found matching 'doc/build'\n",
      "  adding license file 'LICENSE'\n",
      "  writing manifest file 'pygraphviz.egg-info/SOURCES.txt'\n",
      "  copying pygraphviz/graphviz.i -> build/lib.macosx-10.9-x86_64-3.9/pygraphviz\n",
      "  copying pygraphviz/graphviz_wrap.c -> build/lib.macosx-10.9-x86_64-3.9/pygraphviz\n",
      "  running build_ext\n",
      "  building 'pygraphviz._graphviz' extension\n",
      "  creating build/temp.macosx-10.9-x86_64-3.9\n",
      "  creating build/temp.macosx-10.9-x86_64-3.9/pygraphviz\n",
      "  clang -Wno-unused-result -Wsign-compare -Wunreachable-code -DNDEBUG -fwrapv -O2 -Wall -fPIC -O2 -isystem /Users/piyush/opt/anaconda3/include -arch x86_64 -I/Users/piyush/opt/anaconda3/include -fPIC -O2 -isystem /Users/piyush/opt/anaconda3/include -arch x86_64 -I/Users/piyush/opt/anaconda3/include/python3.9 -c pygraphviz/graphviz_wrap.c -o build/temp.macosx-10.9-x86_64-3.9/pygraphviz/graphviz_wrap.o\n",
      "  pygraphviz/graphviz_wrap.c:2711:10: fatal error: 'graphviz/cgraph.h' file not found\n",
      "  #include \"graphviz/cgraph.h\"\n",
      "           ^~~~~~~~~~~~~~~~~~~\n",
      "  1 error generated.\n",
      "  error: command '/usr/bin/clang' failed with exit code 1\n",
      "  ----------------------------------------\u001b[0m\n",
      "\u001b[31m  ERROR: Failed building wheel for pygraphviz\u001b[0m\n",
      "\u001b[?25h  Running setup.py clean for pygraphviz\n",
      "Failed to build pygraphviz\n",
      "Installing collected packages: pygraphviz\n",
      "    Running setup.py install for pygraphviz ... \u001b[?25lerror\n",
      "\u001b[31m    ERROR: Command errored out with exit status 1:\n",
      "     command: /Users/piyush/opt/anaconda3/bin/python -u -c 'import io, os, sys, setuptools, tokenize; sys.argv[0] = '\"'\"'/private/var/folders/cr/cspt5tz93w7cqfslq2qjbg_c0000gn/T/pip-install-9sdmbkv3/pygraphviz_9f9b2a2ed09b486a82fd460d62f6086e/setup.py'\"'\"'; __file__='\"'\"'/private/var/folders/cr/cspt5tz93w7cqfslq2qjbg_c0000gn/T/pip-install-9sdmbkv3/pygraphviz_9f9b2a2ed09b486a82fd460d62f6086e/setup.py'\"'\"';f = getattr(tokenize, '\"'\"'open'\"'\"', open)(__file__) if os.path.exists(__file__) else io.StringIO('\"'\"'from setuptools import setup; setup()'\"'\"');code = f.read().replace('\"'\"'\\r\\n'\"'\"', '\"'\"'\\n'\"'\"');f.close();exec(compile(code, __file__, '\"'\"'exec'\"'\"'))' install --record /private/var/folders/cr/cspt5tz93w7cqfslq2qjbg_c0000gn/T/pip-record-ejq93659/install-record.txt --single-version-externally-managed --compile --install-headers /Users/piyush/opt/anaconda3/include/python3.9/pygraphviz\n",
      "         cwd: /private/var/folders/cr/cspt5tz93w7cqfslq2qjbg_c0000gn/T/pip-install-9sdmbkv3/pygraphviz_9f9b2a2ed09b486a82fd460d62f6086e/\n",
      "    Complete output (55 lines):\n",
      "    running install\n",
      "    running build\n",
      "    running build_py\n",
      "    creating build\n",
      "    creating build/lib.macosx-10.9-x86_64-3.9\n",
      "    creating build/lib.macosx-10.9-x86_64-3.9/pygraphviz\n",
      "    copying pygraphviz/scraper.py -> build/lib.macosx-10.9-x86_64-3.9/pygraphviz\n",
      "    copying pygraphviz/graphviz.py -> build/lib.macosx-10.9-x86_64-3.9/pygraphviz\n",
      "    copying pygraphviz/__init__.py -> build/lib.macosx-10.9-x86_64-3.9/pygraphviz\n",
      "    copying pygraphviz/agraph.py -> build/lib.macosx-10.9-x86_64-3.9/pygraphviz\n",
      "    copying pygraphviz/testing.py -> build/lib.macosx-10.9-x86_64-3.9/pygraphviz\n",
      "    creating build/lib.macosx-10.9-x86_64-3.9/pygraphviz/tests\n",
      "    copying pygraphviz/tests/test_unicode.py -> build/lib.macosx-10.9-x86_64-3.9/pygraphviz/tests\n",
      "    copying pygraphviz/tests/test_scraper.py -> build/lib.macosx-10.9-x86_64-3.9/pygraphviz/tests\n",
      "    copying pygraphviz/tests/test_readwrite.py -> build/lib.macosx-10.9-x86_64-3.9/pygraphviz/tests\n",
      "    copying pygraphviz/tests/test_string.py -> build/lib.macosx-10.9-x86_64-3.9/pygraphviz/tests\n",
      "    copying pygraphviz/tests/__init__.py -> build/lib.macosx-10.9-x86_64-3.9/pygraphviz/tests\n",
      "    copying pygraphviz/tests/test_html.py -> build/lib.macosx-10.9-x86_64-3.9/pygraphviz/tests\n",
      "    copying pygraphviz/tests/test_node_attributes.py -> build/lib.macosx-10.9-x86_64-3.9/pygraphviz/tests\n",
      "    copying pygraphviz/tests/test_drawing.py -> build/lib.macosx-10.9-x86_64-3.9/pygraphviz/tests\n",
      "    copying pygraphviz/tests/test_repr_mimebundle.py -> build/lib.macosx-10.9-x86_64-3.9/pygraphviz/tests\n",
      "    copying pygraphviz/tests/test_subgraph.py -> build/lib.macosx-10.9-x86_64-3.9/pygraphviz/tests\n",
      "    copying pygraphviz/tests/test_close.py -> build/lib.macosx-10.9-x86_64-3.9/pygraphviz/tests\n",
      "    copying pygraphviz/tests/test_edge_attributes.py -> build/lib.macosx-10.9-x86_64-3.9/pygraphviz/tests\n",
      "    copying pygraphviz/tests/test_clear.py -> build/lib.macosx-10.9-x86_64-3.9/pygraphviz/tests\n",
      "    copying pygraphviz/tests/test_layout.py -> build/lib.macosx-10.9-x86_64-3.9/pygraphviz/tests\n",
      "    copying pygraphviz/tests/test_attribute_defaults.py -> build/lib.macosx-10.9-x86_64-3.9/pygraphviz/tests\n",
      "    copying pygraphviz/tests/test_graph.py -> build/lib.macosx-10.9-x86_64-3.9/pygraphviz/tests\n",
      "    running egg_info\n",
      "    writing pygraphviz.egg-info/PKG-INFO\n",
      "    writing dependency_links to pygraphviz.egg-info/dependency_links.txt\n",
      "    writing top-level names to pygraphviz.egg-info/top_level.txt\n",
      "    reading manifest file 'pygraphviz.egg-info/SOURCES.txt'\n",
      "    reading manifest template 'MANIFEST.in'\n",
      "    warning: no files found matching '*.png' under directory 'doc'\n",
      "    warning: no files found matching '*.txt' under directory 'doc'\n",
      "    warning: no files found matching '*.css' under directory 'doc'\n",
      "    warning: no previously-included files matching '*~' found anywhere in distribution\n",
      "    warning: no previously-included files matching '*.pyc' found anywhere in distribution\n",
      "    warning: no previously-included files matching '.svn' found anywhere in distribution\n",
      "    no previously-included directories found matching 'doc/build'\n",
      "    adding license file 'LICENSE'\n",
      "    writing manifest file 'pygraphviz.egg-info/SOURCES.txt'\n",
      "    copying pygraphviz/graphviz.i -> build/lib.macosx-10.9-x86_64-3.9/pygraphviz\n",
      "    copying pygraphviz/graphviz_wrap.c -> build/lib.macosx-10.9-x86_64-3.9/pygraphviz\n",
      "    running build_ext\n",
      "    building 'pygraphviz._graphviz' extension\n",
      "    creating build/temp.macosx-10.9-x86_64-3.9\n",
      "    creating build/temp.macosx-10.9-x86_64-3.9/pygraphviz\n",
      "    clang -Wno-unused-result -Wsign-compare -Wunreachable-code -DNDEBUG -fwrapv -O2 -Wall -fPIC -O2 -isystem /Users/piyush/opt/anaconda3/include -arch x86_64 -I/Users/piyush/opt/anaconda3/include -fPIC -O2 -isystem /Users/piyush/opt/anaconda3/include -arch x86_64 -I/Users/piyush/opt/anaconda3/include/python3.9 -c pygraphviz/graphviz_wrap.c -o build/temp.macosx-10.9-x86_64-3.9/pygraphviz/graphviz_wrap.o\n",
      "    pygraphviz/graphviz_wrap.c:2711:10: fatal error: 'graphviz/cgraph.h' file not found\n",
      "    #include \"graphviz/cgraph.h\"\n",
      "             ^~~~~~~~~~~~~~~~~~~\n",
      "    1 error generated.\n",
      "    error: command '/usr/bin/clang' failed with exit code 1\n",
      "    ----------------------------------------\u001b[0m\n",
      "\u001b[?25h\u001b[31mERROR: Command errored out with exit status 1: /Users/piyush/opt/anaconda3/bin/python -u -c 'import io, os, sys, setuptools, tokenize; sys.argv[0] = '\"'\"'/private/var/folders/cr/cspt5tz93w7cqfslq2qjbg_c0000gn/T/pip-install-9sdmbkv3/pygraphviz_9f9b2a2ed09b486a82fd460d62f6086e/setup.py'\"'\"'; __file__='\"'\"'/private/var/folders/cr/cspt5tz93w7cqfslq2qjbg_c0000gn/T/pip-install-9sdmbkv3/pygraphviz_9f9b2a2ed09b486a82fd460d62f6086e/setup.py'\"'\"';f = getattr(tokenize, '\"'\"'open'\"'\"', open)(__file__) if os.path.exists(__file__) else io.StringIO('\"'\"'from setuptools import setup; setup()'\"'\"');code = f.read().replace('\"'\"'\\r\\n'\"'\"', '\"'\"'\\n'\"'\"');f.close();exec(compile(code, __file__, '\"'\"'exec'\"'\"'))' install --record /private/var/folders/cr/cspt5tz93w7cqfslq2qjbg_c0000gn/T/pip-record-ejq93659/install-record.txt --single-version-externally-managed --compile --install-headers /Users/piyush/opt/anaconda3/include/python3.9/pygraphviz Check the logs for full command output.\u001b[0m\n"
     ]
    }
   ],
   "source": [
    "! pip install pygraphviz"
   ]
  },
  {
   "cell_type": "code",
   "execution_count": 13,
   "metadata": {},
   "outputs": [
    {
     "ename": "ImportError",
     "evalue": "requires pygraphviz http://pygraphviz.github.io/",
     "output_type": "error",
     "traceback": [
      "\u001b[0;31m---------------------------------------------------------------------------\u001b[0m",
      "\u001b[0;31mModuleNotFoundError\u001b[0m                       Traceback (most recent call last)",
      "\u001b[0;32m~/opt/anaconda3/lib/python3.9/site-packages/networkx/drawing/nx_agraph.py\u001b[0m in \u001b[0;36mpygraphviz_layout\u001b[0;34m(G, prog, root, args)\u001b[0m\n\u001b[1;32m    280\u001b[0m     \u001b[0;32mtry\u001b[0m\u001b[0;34m:\u001b[0m\u001b[0;34m\u001b[0m\u001b[0;34m\u001b[0m\u001b[0m\n\u001b[0;32m--> 281\u001b[0;31m         \u001b[0;32mimport\u001b[0m \u001b[0mpygraphviz\u001b[0m\u001b[0;34m\u001b[0m\u001b[0;34m\u001b[0m\u001b[0m\n\u001b[0m\u001b[1;32m    282\u001b[0m     \u001b[0;32mexcept\u001b[0m \u001b[0mImportError\u001b[0m \u001b[0;32mas\u001b[0m \u001b[0me\u001b[0m\u001b[0;34m:\u001b[0m\u001b[0;34m\u001b[0m\u001b[0;34m\u001b[0m\u001b[0m\n",
      "\u001b[0;31mModuleNotFoundError\u001b[0m: No module named 'pygraphviz'",
      "\nThe above exception was the direct cause of the following exception:\n",
      "\u001b[0;31mImportError\u001b[0m                               Traceback (most recent call last)",
      "\u001b[0;32m/var/folders/cr/cspt5tz93w7cqfslq2qjbg_c0000gn/T/ipykernel_17195/3955052637.py\u001b[0m in \u001b[0;36m<module>\u001b[0;34m\u001b[0m\n\u001b[1;32m      4\u001b[0m \u001b[0mc\u001b[0m \u001b[0;34m=\u001b[0m \u001b[0;34m[\u001b[0m\u001b[0mcdict\u001b[0m\u001b[0;34m[\u001b[0m\u001b[0mpanama0\u001b[0m\u001b[0;34m.\u001b[0m\u001b[0mnodes\u001b[0m\u001b[0;34m[\u001b[0m\u001b[0mn\u001b[0m\u001b[0;34m]\u001b[0m\u001b[0;34m[\u001b[0m\u001b[0;34m\"kind\"\u001b[0m\u001b[0;34m]\u001b[0m\u001b[0;34m]\u001b[0m \u001b[0;32mfor\u001b[0m \u001b[0mn\u001b[0m \u001b[0;32min\u001b[0m \u001b[0mpanama0\u001b[0m\u001b[0;34m]\u001b[0m\u001b[0;34m\u001b[0m\u001b[0;34m\u001b[0m\u001b[0m\n\u001b[1;32m      5\u001b[0m \u001b[0mdzcnapy\u001b[0m\u001b[0;34m.\u001b[0m\u001b[0msmall_attrs\u001b[0m\u001b[0;34m[\u001b[0m\u001b[0;34m\"node_color\"\u001b[0m\u001b[0;34m]\u001b[0m \u001b[0;34m=\u001b[0m \u001b[0mc\u001b[0m\u001b[0;34m\u001b[0m\u001b[0;34m\u001b[0m\u001b[0m\n\u001b[0;32m----> 6\u001b[0;31m \u001b[0mpos\u001b[0m \u001b[0;34m=\u001b[0m \u001b[0mgraphviz_layout\u001b[0m\u001b[0;34m(\u001b[0m\u001b[0mpanama0\u001b[0m\u001b[0;34m)\u001b[0m\u001b[0;34m\u001b[0m\u001b[0;34m\u001b[0m\u001b[0m\n\u001b[0m\u001b[1;32m      7\u001b[0m \u001b[0mnx\u001b[0m\u001b[0;34m.\u001b[0m\u001b[0mdraw_networkx\u001b[0m\u001b[0;34m(\u001b[0m\u001b[0mpanama0\u001b[0m\u001b[0;34m,\u001b[0m \u001b[0mpos\u001b[0m\u001b[0;34m=\u001b[0m\u001b[0mpos\u001b[0m\u001b[0;34m,\u001b[0m \u001b[0mwith_labels\u001b[0m\u001b[0;34m=\u001b[0m\u001b[0;32mFalse\u001b[0m\u001b[0;34m,\u001b[0m \u001b[0;34m**\u001b[0m\u001b[0mdzcnapy\u001b[0m\u001b[0;34m.\u001b[0m\u001b[0msmall_attrs\u001b[0m\u001b[0;34m)\u001b[0m\u001b[0;34m\u001b[0m\u001b[0;34m\u001b[0m\u001b[0m\n\u001b[1;32m      8\u001b[0m \u001b[0mdzcnapy\u001b[0m\u001b[0;34m.\u001b[0m\u001b[0mset_extent\u001b[0m\u001b[0;34m(\u001b[0m\u001b[0mpos\u001b[0m\u001b[0;34m,\u001b[0m \u001b[0mplt\u001b[0m\u001b[0;34m)\u001b[0m\u001b[0;34m\u001b[0m\u001b[0;34m\u001b[0m\u001b[0m\n",
      "\u001b[0;32m~/opt/anaconda3/lib/python3.9/site-packages/networkx/drawing/nx_agraph.py\u001b[0m in \u001b[0;36mgraphviz_layout\u001b[0;34m(G, prog, root, args)\u001b[0m\n\u001b[1;32m    237\u001b[0m     \u001b[0mThis\u001b[0m \u001b[0;32mis\u001b[0m \u001b[0ma\u001b[0m \u001b[0mwrapper\u001b[0m \u001b[0;32mfor\u001b[0m \u001b[0mpygraphviz_layout\u001b[0m\u001b[0;34m.\u001b[0m\u001b[0;34m\u001b[0m\u001b[0;34m\u001b[0m\u001b[0m\n\u001b[1;32m    238\u001b[0m     \"\"\"\n\u001b[0;32m--> 239\u001b[0;31m     \u001b[0;32mreturn\u001b[0m \u001b[0mpygraphviz_layout\u001b[0m\u001b[0;34m(\u001b[0m\u001b[0mG\u001b[0m\u001b[0;34m,\u001b[0m \u001b[0mprog\u001b[0m\u001b[0;34m=\u001b[0m\u001b[0mprog\u001b[0m\u001b[0;34m,\u001b[0m \u001b[0mroot\u001b[0m\u001b[0;34m=\u001b[0m\u001b[0mroot\u001b[0m\u001b[0;34m,\u001b[0m \u001b[0margs\u001b[0m\u001b[0;34m=\u001b[0m\u001b[0margs\u001b[0m\u001b[0;34m)\u001b[0m\u001b[0;34m\u001b[0m\u001b[0;34m\u001b[0m\u001b[0m\n\u001b[0m\u001b[1;32m    240\u001b[0m \u001b[0;34m\u001b[0m\u001b[0m\n\u001b[1;32m    241\u001b[0m \u001b[0;34m\u001b[0m\u001b[0m\n",
      "\u001b[0;32m~/opt/anaconda3/lib/python3.9/site-packages/networkx/drawing/nx_agraph.py\u001b[0m in \u001b[0;36mpygraphviz_layout\u001b[0;34m(G, prog, root, args)\u001b[0m\n\u001b[1;32m    281\u001b[0m         \u001b[0;32mimport\u001b[0m \u001b[0mpygraphviz\u001b[0m\u001b[0;34m\u001b[0m\u001b[0;34m\u001b[0m\u001b[0m\n\u001b[1;32m    282\u001b[0m     \u001b[0;32mexcept\u001b[0m \u001b[0mImportError\u001b[0m \u001b[0;32mas\u001b[0m \u001b[0me\u001b[0m\u001b[0;34m:\u001b[0m\u001b[0;34m\u001b[0m\u001b[0;34m\u001b[0m\u001b[0m\n\u001b[0;32m--> 283\u001b[0;31m         \u001b[0;32mraise\u001b[0m \u001b[0mImportError\u001b[0m\u001b[0;34m(\u001b[0m\u001b[0;34m\"requires pygraphviz \"\u001b[0m \u001b[0;34m\"http://pygraphviz.github.io/\"\u001b[0m\u001b[0;34m)\u001b[0m \u001b[0;32mfrom\u001b[0m \u001b[0me\u001b[0m\u001b[0;34m\u001b[0m\u001b[0;34m\u001b[0m\u001b[0m\n\u001b[0m\u001b[1;32m    284\u001b[0m     \u001b[0;32mif\u001b[0m \u001b[0mroot\u001b[0m \u001b[0;32mis\u001b[0m \u001b[0;32mnot\u001b[0m \u001b[0;32mNone\u001b[0m\u001b[0;34m:\u001b[0m\u001b[0;34m\u001b[0m\u001b[0;34m\u001b[0m\u001b[0m\n\u001b[1;32m    285\u001b[0m         \u001b[0margs\u001b[0m \u001b[0;34m+=\u001b[0m \u001b[0;34mf\"-Groot={root}\"\u001b[0m\u001b[0;34m\u001b[0m\u001b[0;34m\u001b[0m\u001b[0m\n",
      "\u001b[0;31mImportError\u001b[0m: requires pygraphviz http://pygraphviz.github.io/"
     ]
    }
   ],
   "source": [
    "panama0 = panama\n",
    "cdict = {\"Entities\": \"pink\", \"Officers\": \"blue\", \n",
    "         \"Intermediaries\" : \"green\"}\n",
    "c = [cdict[panama0.nodes[n][\"kind\"]] for n in panama0]\n",
    "dzcnapy.small_attrs[\"node_color\"] = c\n",
    "pos = graphviz_layout(panama0)\n",
    "nx.draw_networkx(panama0, pos=pos, with_labels=False, **dzcnapy.small_attrs)\n",
    "dzcnapy.set_extent(pos, plt)\n",
    "dzcnapy.plot(\"panama0\")"
   ]
  },
  {
   "cell_type": "code",
   "execution_count": null,
   "metadata": {},
   "outputs": [],
   "source": [
    "import pandas as pd"
   ]
  },
  {
   "cell_type": "code",
   "execution_count": null,
   "metadata": {},
   "outputs": [],
   "source": [
    "edg = pd.read_csv('./csv_panama_papers.2018-02-14/panama_papers.edges.csv', low_memory=False)"
   ]
  },
  {
   "cell_type": "code",
   "execution_count": null,
   "metadata": {},
   "outputs": [
    {
     "data": {
      "text/html": [
       "<div>\n",
       "<style scoped>\n",
       "    .dataframe tbody tr th:only-of-type {\n",
       "        vertical-align: middle;\n",
       "    }\n",
       "\n",
       "    .dataframe tbody tr th {\n",
       "        vertical-align: top;\n",
       "    }\n",
       "\n",
       "    .dataframe thead th {\n",
       "        text-align: right;\n",
       "    }\n",
       "</style>\n",
       "<table border=\"1\" class=\"dataframe\">\n",
       "  <thead>\n",
       "    <tr style=\"text-align: right;\">\n",
       "      <th></th>\n",
       "      <th>START_ID</th>\n",
       "      <th>TYPE</th>\n",
       "      <th>END_ID</th>\n",
       "      <th>link</th>\n",
       "      <th>start_date</th>\n",
       "      <th>end_date</th>\n",
       "      <th>sourceID</th>\n",
       "      <th>valid_until</th>\n",
       "    </tr>\n",
       "  </thead>\n",
       "  <tbody>\n",
       "    <tr>\n",
       "      <th>0</th>\n",
       "      <td>10000035</td>\n",
       "      <td>registered_address</td>\n",
       "      <td>14095990</td>\n",
       "      <td>registered address</td>\n",
       "      <td>NaN</td>\n",
       "      <td>NaN</td>\n",
       "      <td>Panama Papers</td>\n",
       "      <td>NaN</td>\n",
       "    </tr>\n",
       "    <tr>\n",
       "      <th>1</th>\n",
       "      <td>10000044</td>\n",
       "      <td>registered_address</td>\n",
       "      <td>14091035</td>\n",
       "      <td>registered address</td>\n",
       "      <td>NaN</td>\n",
       "      <td>NaN</td>\n",
       "      <td>Panama Papers</td>\n",
       "      <td>NaN</td>\n",
       "    </tr>\n",
       "    <tr>\n",
       "      <th>2</th>\n",
       "      <td>10000055</td>\n",
       "      <td>registered_address</td>\n",
       "      <td>14095990</td>\n",
       "      <td>registered address</td>\n",
       "      <td>NaN</td>\n",
       "      <td>NaN</td>\n",
       "      <td>Panama Papers</td>\n",
       "      <td>NaN</td>\n",
       "    </tr>\n",
       "    <tr>\n",
       "      <th>3</th>\n",
       "      <td>10000064</td>\n",
       "      <td>registered_address</td>\n",
       "      <td>14091429</td>\n",
       "      <td>registered address</td>\n",
       "      <td>NaN</td>\n",
       "      <td>NaN</td>\n",
       "      <td>Panama Papers</td>\n",
       "      <td>NaN</td>\n",
       "    </tr>\n",
       "    <tr>\n",
       "      <th>4</th>\n",
       "      <td>10000089</td>\n",
       "      <td>registered_address</td>\n",
       "      <td>14098253</td>\n",
       "      <td>registered address</td>\n",
       "      <td>NaN</td>\n",
       "      <td>NaN</td>\n",
       "      <td>Panama Papers</td>\n",
       "      <td>NaN</td>\n",
       "    </tr>\n",
       "  </tbody>\n",
       "</table>\n",
       "</div>"
      ],
      "text/plain": [
       "   START_ID                TYPE    END_ID                link start_date  \\\n",
       "0  10000035  registered_address  14095990  registered address        NaN   \n",
       "1  10000044  registered_address  14091035  registered address        NaN   \n",
       "2  10000055  registered_address  14095990  registered address        NaN   \n",
       "3  10000064  registered_address  14091429  registered address        NaN   \n",
       "4  10000089  registered_address  14098253  registered address        NaN   \n",
       "\n",
       "  end_date       sourceID valid_until  \n",
       "0      NaN  Panama Papers         NaN  \n",
       "1      NaN  Panama Papers         NaN  \n",
       "2      NaN  Panama Papers         NaN  \n",
       "3      NaN  Panama Papers         NaN  \n",
       "4      NaN  Panama Papers         NaN  "
      ]
     },
     "execution_count": 9,
     "metadata": {},
     "output_type": "execute_result"
    }
   ],
   "source": [
    "edg.head()"
   ]
  },
  {
   "cell_type": "code",
   "execution_count": null,
   "metadata": {},
   "outputs": [
    {
     "data": {
      "text/plain": [
       "array(['registered_address', 'intermediary_of', 'officer_of'],\n",
       "      dtype=object)"
      ]
     },
     "execution_count": 10,
     "metadata": {},
     "output_type": "execute_result"
    }
   ],
   "source": [
    "edg.TYPE.unique()"
   ]
  },
  {
   "cell_type": "code",
   "execution_count": null,
   "metadata": {},
   "outputs": [],
   "source": []
  }
 ],
 "metadata": {
  "interpreter": {
   "hash": "ba8317bdab7dbc2ed57e3047cb82f0b9f65dd45034139167c6c07f8a9bd4bab8"
  },
  "kernelspec": {
   "display_name": "Python 3.9.7 ('venv': venv)",
   "language": "python",
   "name": "python3"
  },
  "language_info": {
   "codemirror_mode": {
    "name": "ipython",
    "version": 3
   },
   "file_extension": ".py",
   "mimetype": "text/x-python",
   "name": "python",
   "nbconvert_exporter": "python",
   "pygments_lexer": "ipython3",
   "version": "3.9.7"
  },
  "orig_nbformat": 4
 },
 "nbformat": 4,
 "nbformat_minor": 2
}
