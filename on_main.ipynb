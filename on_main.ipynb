{
 "cells": [
  {
   "cell_type": "code",
   "execution_count": null,
   "metadata": {},
   "outputs": [],
   "source": [
    "import dzcnapy_plotlib as dzcnapy"
   ]
  }
 ],
 "metadata": {
  "interpreter": {
   "hash": "25f291af9cc96aa992e7f01dfa5a310ec565b020d8d9b56cd755e29d17098662"
  },
  "kernelspec": {
   "display_name": "Python 3.9.7 ('base')",
   "language": "python",
   "name": "python3"
  },
  "language_info": {
   "name": "python",
   "version": "3.9.7"
  },
  "orig_nbformat": 4
 },
 "nbformat": 4,
 "nbformat_minor": 2
}
